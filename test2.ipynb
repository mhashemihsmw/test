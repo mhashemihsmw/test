{
 "cells": [
  {
   "cell_type": "code",
   "execution_count": null,
   "id": "436642b9",
   "metadata": {
    "vscode": {
     "languageId": "plaintext"
    }
   },
   "outputs": [],
   "source": [
    "tired of this shit\n",
    "bullshit\n",
    "\n",
    "as\n",
    "\n",
    "maz"
   ]
  }
 ],
 "metadata": {
  "language_info": {
   "name": "python"
  }
 },
 "nbformat": 4,
 "nbformat_minor": 5
}
