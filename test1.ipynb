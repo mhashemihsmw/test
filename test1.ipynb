{
 "cells": [
  {
   "cell_type": "code",
   "execution_count": null,
   "id": "44e787e0",
   "metadata": {},
   "outputs": [],
   "source": [
    "print('hello world')\n",
    "print('this is a test')\n",
    "print('goodbye world')\n",
    "print('this is another test')"
     "print('update in github')"
   ]
  }
 ],
 "metadata": {
  "language_info": {
   "name": "python"
  }
 },
 "nbformat": 4,
 "nbformat_minor": 5
}
