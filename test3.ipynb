{
 "cells": [
  {
   "cell_type": "markdown",
   "id": "73d4683a",
   "metadata": {},
   "source": [
    "here we go again\n"
   ]
  }
 ],
 "metadata": {
  "language_info": {
   "name": "python"
  }
 },
 "nbformat": 4,
 "nbformat_minor": 5
}
